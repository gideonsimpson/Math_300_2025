{
 "cells": [
  {
   "cell_type": "markdown",
   "id": "3c08e857-33cf-4753-9113-c17fc6352f8f",
   "metadata": {},
   "source": [
    "# Bisection Method"
   ]
  },
  {
   "cell_type": "code",
   "execution_count": 1,
   "id": "63b2d2ee-4a91-49e7-ae89-3eb0055c687e",
   "metadata": {},
   "outputs": [],
   "source": [
    "using Plots\n",
    "using Printf"
   ]
  },
  {
   "cell_type": "code",
   "execution_count": 2,
   "id": "815c83ff-47c1-4477-9f6f-6b894ec14695",
   "metadata": {},
   "outputs": [],
   "source": [
    "default(lw=2,markersize = 6,\n",
    "    xtickfont=font(12), ytickfont=font(12), \n",
    "    guidefont=font(14), legendfont=font(12),titlefont=font(12))"
   ]
  },
  {
   "cell_type": "code",
   "execution_count": 17,
   "id": "898f2ec5-4dae-4b01-93e6-8f05fe654364",
   "metadata": {},
   "outputs": [
    {
     "data": {
      "text/plain": [
       "bisection (generic function with 1 method)"
      ]
     },
     "metadata": {},
     "output_type": "display_data"
    }
   ],
   "source": [
    "function bisection(f, a, b, n_max, tol; verbose = true)\n",
    "    \n",
    "    converged = false;\n",
    "    p = 0;\n",
    "    for i in 1:n_max\n",
    "\n",
    "        p = 0.5 * (a+b); # compute the midpoint \n",
    "        \n",
    "        # print current iterate information to screen \n",
    "        if verbose\n",
    "            println(\" $(lpad(i, 3)): a = $(round(a, digits=8)), b = $(round(b, digits=8)), p = $(round(p, digits=8)), |f(p)|  = $(abs(f(p)))\");\n",
    "        end\n",
    "\n",
    "        # determine if the root is in the left or right interval\n",
    "        if ( f(a) * f(p)<=0)\n",
    "            b = p; # root is interval [a,p]\n",
    "        else\n",
    "            a = p # root is in interval [p,b]\n",
    "        end\n",
    "        if(abs(f(p))==0)\n",
    "            converged = true;\n",
    "            break\n",
    "        end\n",
    "        \n",
    "        # test for convergence\n",
    "        if .5*(b-a)< tol\n",
    "            converged = true;\n",
    "            break\n",
    "        end\n",
    "    end\n",
    "    \n",
    "    if !converged\n",
    "        println(\"ERROR: Did not converge after $n_max iterations\")\n",
    "    end\n",
    "\n",
    "    return p # return midpoint guess\n",
    "    \n",
    "end"
   ]
  },
  {
   "cell_type": "markdown",
   "id": "4ceb79bf-3b08-4684-9383-242d2234d22f",
   "metadata": {},
   "source": [
    "## Example 1\n",
    "Find a root of $x^3 + 4x^2 - 10$ in $[1,2]$."
   ]
  },
  {
   "cell_type": "code",
   "execution_count": null,
   "id": "2a6098b8-ff5d-4ed1-85ba-f133b5062157",
   "metadata": {},
   "outputs": [
    {
     "ename": "ErrorException",
     "evalue": "cannot define function f; it already has a value",
     "output_type": "error",
     "traceback": [
      "cannot define function f; it already has a value\n",
      "\n",
      "Stacktrace:\n",
      " [1] top-level scope\n",
      "   @ none:0"
     ]
    }
   ],
   "source": [
    "f(x) = x^3 + 4 * x^2 - 10;\n",
    "a = 1;\n",
    "b = 2;\n",
    "n_max = 100;\n",
    "tol = 1e-6;\n",
    "\n",
    "bisection(f, a, b, n_max, tol);"
   ]
  },
  {
   "cell_type": "code",
   "execution_count": 16,
   "id": "3b230f5f-661a-49d9-9131-3c9ded137836",
   "metadata": {},
   "outputs": [
    {
     "name": "stdout",
     "output_type": "stream",
     "text": [
      "   1: a = 1.0, b = 2.0, p = 1.5, |f(p)| = 2.375\n",
      "   2: a = 1.0, b = 1.5, p = 1.25, |f(p)| = 1.796875\n",
      "   3: a = 1.25, b = 1.5, p = 1.375, |f(p)| = 0.162109375\n",
      "   4: a = 1.25, b = 1.375, p = 1.3125, |f(p)| = 0.848388671875\n",
      "   5: a = 1.3125, b = 1.375, p = 1.34375, |f(p)| = 0.350982666015625\n",
      "   6: a = 1.34375, b = 1.375, p = 1.359375, |f(p)| = 0.09640884399414062\n",
      "   7: a = 1.359375, b = 1.375, p = 1.3671875, |f(p)| = 0.03235578536987305\n",
      "   8: a = 1.359375, b = 1.3671875, p = 1.36328125, |f(p)| = 0.03214997053146362\n",
      "   9: a = 1.36328125, b = 1.3671875, p = 1.36523438, |f(p)| = 7.202476263046265e-5\n",
      "  10: a = 1.36328125, b = 1.36523438, p = 1.36425781, |f(p)| = 0.01604669075459242\n",
      "  11: a = 1.36425781, b = 1.36523438, p = 1.36474609, |f(p)| = 0.007989262812770903\n",
      "  12: a = 1.36474609, b = 1.36523438, p = 1.36499023, |f(p)| = 0.003959101522923447\n",
      "  13: a = 1.36499023, b = 1.36523438, p = 1.3651123, |f(p)| = 0.0019436590100667672\n",
      "  14: a = 1.3651123, b = 1.36523438, p = 1.36517334, |f(p)| = 0.000935847281880342\n",
      "  15: a = 1.36517334, b = 1.36523438, p = 1.36520386, |f(p)| = 0.00043191879925075227\n",
      "  16: a = 1.36520386, b = 1.36523438, p = 1.36521912, |f(p)| = 0.0001799489032272561\n",
      "  17: a = 1.36521912, b = 1.36523438, p = 1.36522675, |f(p)| = 5.3962541528562724e-5\n",
      "  18: a = 1.36522675, b = 1.36523438, p = 1.36523056, |f(p)| = 9.030992742964372e-6\n",
      "  19: a = 1.36522675, b = 1.36523056, p = 1.36522865, |f(p)| = 2.2465803844795573e-5\n",
      "  20: a = 1.36522865, b = 1.36523056, p = 1.36522961, |f(p)| = 6.7174129139147e-6\n"
     ]
    },
    {
     "data": {
      "text/plain": [
       "Animation(\"/var/folders/55/nj7rw6rd0_94ch6cy0sgh9j0mpp4z3/T/jl_K3fxQg\", [\"000001.png\", \"000002.png\", \"000003.png\", \"000004.png\", \"000005.png\", \"000006.png\", \"000007.png\", \"000008.png\", \"000009.png\", \"000010.png\", \"000011.png\", \"000012.png\", \"000013.png\", \"000014.png\", \"000015.png\", \"000016.png\", \"000017.png\", \"000018.png\", \"000019.png\", \"000020.png\"])"
      ]
     },
     "metadata": {},
     "output_type": "display_data"
    }
   ],
   "source": [
    "n_max = 20;\n",
    "a_vals = zeros(n_max);\n",
    "b_vals = zeros(n_max);\n",
    "p_vals = zeros(n_max);\n",
    "a = 1;\n",
    "b = 2;\n",
    "p = 0;\n",
    "for i in 1:n_max\n",
    "    a_vals[i] = a;\n",
    "    b_vals[i] = b;\n",
    "    p = 0.5 *  (a+b);\n",
    "    p_vals[i] = p;\n",
    "    println(\" $(lpad(i, 3)): a = $(round(a, digits=8)), b = $(round(b, digits=8)), p = $(round(p, digits=8)), |f(p)| = $(abs(f(p)))\");\n",
    "    if ( f(a) * f(p)<=0)\n",
    "        b = p;\n",
    "    else\n",
    "        a = p\n",
    "    end    \n",
    "end\n",
    "\n",
    "anim = @animate for i=1:n_max\n",
    "    xx = LinRange(1,2,100);\n",
    "    ff = f.(xx);\n",
    "    plot(xx, ff, label=\"f(x)\")\n",
    "    plot!([a_vals[i],b_vals[i]], [0,0], label=\"\")\n",
    "    plot!([p_vals[i],p_vals[i]],[0,f(p_vals[i])],label=\"\")\n",
    "    xlims!(1,2)\n",
    "    ylims!(f(1), f(2))\n",
    "    \n",
    "    xlabel!(\"x\");\n",
    "    ylabel!(\"y\")\n",
    "    title!(string(\"n = $i\"))\n",
    "end"
   ]
  },
  {
   "cell_type": "code",
   "execution_count": 15,
   "id": "84eed727-5327-4e67-a7ad-2b660f4bc2f7",
   "metadata": {},
   "outputs": [
    {
     "name": "stderr",
     "output_type": "stream",
     "text": [
      "┌ Info: Saved animation to /var/folders/55/nj7rw6rd0_94ch6cy0sgh9j0mpp4z3/T/jl_ZOJqrqxCje.gif\n",
      "└ @ Plots /Users/grs53/.julia/packages/Plots/bpxfB/src/animation.jl:156\n"
     ]
    },
    {
     "data": {
      "text/html": [
       "<img src=\"data:image/gif;base64,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\" />"
      ],
      "text/plain": [
       "Plots.AnimatedGif(\"/var/folders/55/nj7rw6rd0_94ch6cy0sgh9j0mpp4z3/T/jl_ZOJqrqxCje.gif\")"
      ]
     },
     "metadata": {},
     "output_type": "display_data"
    }
   ],
   "source": [
    "gif(anim,  fps = 1)"
   ]
  }
 ],
 "metadata": {
  "kernelspec": {
   "display_name": "Julia 1.11.7",
   "language": "julia",
   "name": "julia-1.11"
  },
  "language_info": {
   "file_extension": ".jl",
   "mimetype": "application/julia",
   "name": "julia",
   "version": "1.11.7"
  }
 },
 "nbformat": 4,
 "nbformat_minor": 5
}
