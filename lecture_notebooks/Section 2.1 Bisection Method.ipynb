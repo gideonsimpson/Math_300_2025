{
 "cells": [
  {
   "cell_type": "markdown",
   "id": "3c08e857-33cf-4753-9113-c17fc6352f8f",
   "metadata": {},
   "source": [
    "# Bisection Method"
   ]
  },
  {
   "cell_type": "code",
   "execution_count": null,
   "id": "63b2d2ee-4a91-49e7-ae89-3eb0055c687e",
   "metadata": {},
   "outputs": [],
   "source": [
    "using Plots"
   ]
  },
  {
   "cell_type": "markdown",
   "id": "60525a03",
   "metadata": {},
   "source": [
    "These settings are good default plotting parameters:"
   ]
  },
  {
   "cell_type": "code",
   "execution_count": null,
   "id": "815c83ff-47c1-4477-9f6f-6b894ec14695",
   "metadata": {},
   "outputs": [],
   "source": [
    "default(lw=2,markersize = 6,\n",
    "    xtickfont=font(12), ytickfont=font(12), \n",
    "    guidefont=font(14), legendfont=font(12),titlefont=font(12))"
   ]
  },
  {
   "cell_type": "code",
   "execution_count": null,
   "id": "898f2ec5-4dae-4b01-93e6-8f05fe654364",
   "metadata": {},
   "outputs": [],
   "source": [
    "function bisection(f, a, b, n_max, tol; verbose = true)\n",
    "    \n",
    "    converged = false;\n",
    "    p = 0;\n",
    "    for i in 1:n_max\n",
    "\n",
    "        p = 0.5 * (a+b); # compute the midpoint \n",
    "        \n",
    "        # print current iterate information to screen \n",
    "        if verbose\n",
    "            println(\" $i: a = $(round(a,digits=8)), b = $(round(b,digits=8)), p = $(round(p,digits=8)), |f(p)|  = $(round(abs(f(p)),digits=8))\")\n",
    "        end\n",
    "\n",
    "        # determine if the root is in the left or right interval\n",
    "        if ( f(a) * f(p)<=0)\n",
    "            b = p; # root is interval [a,p]\n",
    "        else\n",
    "            a = p # root is in interval [p,b]\n",
    "        end\n",
    "        if(abs(f(p))==0)\n",
    "            converged = true;\n",
    "            break\n",
    "        end\n",
    "        \n",
    "        # test for convergence\n",
    "        if .5*(b-a)< tol\n",
    "            converged = true;\n",
    "            break\n",
    "        end\n",
    "    end\n",
    "    \n",
    "    if !converged\n",
    "        println(\"ERROR: Did not converge after $n_max iterations\")\n",
    "    end\n",
    "\n",
    "    return p # return midpoint guess\n",
    "    \n",
    "end"
   ]
  },
  {
   "cell_type": "markdown",
   "id": "4ceb79bf-3b08-4684-9383-242d2234d22f",
   "metadata": {},
   "source": [
    "## Example 1\n",
    "Find a root of $x^3 + 4x^2 - 10$ in $[1,2]$."
   ]
  },
  {
   "cell_type": "code",
   "execution_count": null,
   "id": "2a6098b8-ff5d-4ed1-85ba-f133b5062157",
   "metadata": {},
   "outputs": [],
   "source": [
    "f(x) = x^3 + 4 * x^2 - 10;\n",
    "a = 1;\n",
    "b = 2;\n",
    "n_max = 100;\n",
    "tol = 1e-8;\n",
    "\n",
    "bisection(f, a, b, n_max, tol);"
   ]
  },
  {
   "cell_type": "code",
   "execution_count": null,
   "id": "3b230f5f-661a-49d9-9131-3c9ded137836",
   "metadata": {},
   "outputs": [],
   "source": [
    "n_max = 20;\n",
    "a_vals = zeros(n_max);\n",
    "b_vals = zeros(n_max);\n",
    "p_vals = zeros(n_max);\n",
    "a = 1;\n",
    "b = 2;\n",
    "p = 0;\n",
    "for i in 1:n_max\n",
    "    a_vals[i] = a;\n",
    "    b_vals[i] = b;\n",
    "    p = 0.5 *  (a+b);\n",
    "    p_vals[i] = p;\n",
    "    println(\" $i: a = $(round(a,digits=8)), b = $(round(b,digits=8)), p = $(round(p,digits=8)), |f(p)|  = $(round(abs(f(p)),digits=8))\")\n",
    "    if ( f(a) * f(p)<=0)\n",
    "        b = p;\n",
    "    else\n",
    "        a = p\n",
    "    end    \n",
    "end\n",
    "\n",
    "\n",
    "anim = @animate for i=1:n_max\n",
    "    xx = LinRange(1,2,100);\n",
    "    ff = f.(xx);\n",
    "    plot(xx, ff, label=\"f(x)\")\n",
    "    plot!([a_vals[i],b_vals[i]], [0,0], label=\"\",lw=6,ls=:dot)\n",
    "    plot!([p_vals[i],p_vals[i]],[0,f(p_vals[i])],label=\"\",lw=4)\n",
    "    xlims!(1,2)\n",
    "    ylims!(f(1), f(2))\n",
    "    \n",
    "    xlabel!(\"x\");\n",
    "    ylabel!(\"y\")\n",
    "    title!(string(\"n = $i\"))\n",
    "end"
   ]
  },
  {
   "cell_type": "code",
   "execution_count": null,
   "id": "84eed727-5327-4e67-a7ad-2b660f4bc2f7",
   "metadata": {},
   "outputs": [],
   "source": [
    "gif(anim,  fps = 1)"
   ]
  },
  {
   "cell_type": "markdown",
   "id": "3342384f",
   "metadata": {},
   "source": [
    "## Conservative Nature of the Error Estimator\n",
    "The number of iterations the theorem predicts that to get \n",
    "$$\n",
    "|p_n -p|< {\\rm TOL},\n",
    "$$\n",
    "it is sufficient to take $n$ large enough such that\n",
    "$$\n",
    "\\frac{b-a}{2^n} < {\\rm TOL}\n",
    "$$\n",
    "\n",
    "will be needed to satisfy a particular absolute error is often much higher than needed.\n",
    "\n",
    "Suppose, for the above problem, we want an absolute error $<10^{-3}$.  \n"
   ]
  },
  {
   "cell_type": "code",
   "execution_count": null,
   "id": "bb03315a",
   "metadata": {},
   "outputs": [],
   "source": [
    "p_exact = 1.3652300134141; # found elsewhere\n",
    "a = 1;\n",
    "b = 2;\n",
    "TOL = 10^-3;\n",
    "\n",
    "@show n_max= ceil(Int, log2((b-a)/TOL));\n",
    "\n",
    "p = 0;\n",
    "for i in 1:n_max\n",
    "    p = 0.5 *  (a+b);\n",
    "    if ( f(a) * f(p)<=0)\n",
    "        b = p;\n",
    "    else\n",
    "        a = p\n",
    "    end\n",
    "    println(\"$i: |p - p_exact| = $(round(abs(p - p_exact),digits=12))\")\n",
    "end\n"
   ]
  },
  {
   "cell_type": "markdown",
   "id": "45570f57",
   "metadata": {},
   "source": [
    "Note that we had an answer with error $\\approx 10^{-6}$ after 9 iterations, even though the theorem said we needed 10."
   ]
  }
 ],
 "metadata": {
  "kernelspec": {
   "display_name": "Julia 1.11.7",
   "language": "julia",
   "name": "julia-1.11"
  },
  "language_info": {
   "file_extension": ".jl",
   "mimetype": "application/julia",
   "name": "julia",
   "version": "1.11.7"
  }
 },
 "nbformat": 4,
 "nbformat_minor": 5
}
