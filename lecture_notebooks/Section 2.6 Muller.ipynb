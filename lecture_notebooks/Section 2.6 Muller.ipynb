{
 "cells": [
  {
   "cell_type": "markdown",
   "id": "d5b9bce4-3cda-486d-830e-160d57debf5a",
   "metadata": {},
   "source": [
    "# Muller's Method for Complex Roots"
   ]
  },
  {
   "cell_type": "code",
   "execution_count": 3,
   "id": "ac081d6e-7ec8-4994-b910-058dfdeeec2a",
   "metadata": {},
   "outputs": [
    {
     "data": {
      "text/plain": [
       "newton (generic function with 1 method)"
      ]
     },
     "execution_count": 3,
     "metadata": {},
     "output_type": "execute_result"
    }
   ],
   "source": [
    "function newton(f, df, p0, n_max, rel_tol; verbose = true)\n",
    "    \n",
    "    converged = false;\n",
    "    p = p0;\n",
    "    p_old = p0;\n",
    "\n",
    "    for i in 1:n_max\n",
    "\n",
    "        p = p_old - f(p_old)/df(p_old);\n",
    "        \n",
    "        if verbose\n",
    "            println(\" $i: p = $(p), |f(p)| = $(abs(f(p)))\")\n",
    "        end\n",
    "\n",
    "        if (i>1)\n",
    "            if abs(p-p_old)/abs(p)< rel_tol\n",
    "                converged = true;\n",
    "                break\n",
    "            end\n",
    "        end\n",
    "\n",
    "        p_old = p;\n",
    "\n",
    "    end\n",
    "    \n",
    "    if !converged\n",
    "        println(\"ERROR: Did not converge after $n_max iterations\")\n",
    "    end\n",
    "\n",
    "    return p\n",
    "    \n",
    "end"
   ]
  },
  {
   "cell_type": "code",
   "execution_count": 4,
   "id": "2f8727f3-417e-432c-b5e5-3bef53dee5aa",
   "metadata": {},
   "outputs": [
    {
     "data": {
      "text/plain": [
       "muller (generic function with 1 method)"
      ]
     },
     "execution_count": 4,
     "metadata": {},
     "output_type": "execute_result"
    }
   ],
   "source": [
    "function muller(f, p0, p1, p2, n_max, rel_tol; verbose = true)\n",
    "    \n",
    "    converged = false;\n",
    "    p = p2;\n",
    "\n",
    "    for i in 1:n_max\n",
    "\n",
    "        # solve for the constants a, b, and c\n",
    "        c = f(p2);\n",
    "        A = [(p0-p2)^2 p0-p2; (p1-p2)^2 p1-p2 ];\n",
    "        x = A\\[f(p0)-c; f(p1)-c];\n",
    "        a = x[1];\n",
    "        b = x[2];\n",
    "        \n",
    "        # take the root with larger denominator\n",
    "        if abs(b + sqrt(b^2-4*a*c))> abs(b - sqrt(b^2-4*a*c))\n",
    "            p = p2 - 2*c/(b + sqrt(b^2-4*a*c));\n",
    "        else\n",
    "            p = p2 - 2*c/(b - sqrt(b^2-4*a*c));            \n",
    "        end\n",
    "        \n",
    "        if verbose\n",
    "            println(\" $i: p = $(p), |f(p)| = $(abs(f(p)))\")\n",
    "\n",
    "            # @printf(\" %d: p = %.15g + i %.15g, |f(p)| = %g\\n\", i, \n",
    "            #     real(p), imag(p), abs(f(p)));\n",
    "        end\n",
    "\n",
    "        \n",
    "        if (i>1)\n",
    "            if abs(p-p2)/abs(p)< rel_tol\n",
    "                converged = true;\n",
    "                break\n",
    "            end\n",
    "        end\n",
    "\n",
    "        # update entries\n",
    "        p0 = p1;\n",
    "        p1 = p2;\n",
    "        p2 = p;\n",
    "\n",
    "    end\n",
    "    \n",
    "    if !converged\n",
    "        println(\"ERROR: Did not converge after $n_max iterations\")\n",
    "    end\n",
    "\n",
    "    return p\n",
    "    \n",
    "end"
   ]
  },
  {
   "cell_type": "markdown",
   "id": "03b5a74a-49fb-49f6-9a39-041a93834928",
   "metadata": {},
   "source": [
    "## Example 1\n",
    "Find a complex root of\n",
    "$$\n",
    "x^3 -1\n",
    "$$"
   ]
  },
  {
   "cell_type": "code",
   "execution_count": null,
   "id": "7954775d-0dbb-4454-a832-f6d82d9a7915",
   "metadata": {},
   "outputs": [
    {
     "name": "stdout",
     "output_type": "stream",
     "text": [
      " 1: p = -0.3333333333333333 + 0.6666666666666667im, |f(p)| = 0.5972042776517444\n",
      " 2: p = -0.5822222222222222 + 0.9244444444444444im, |f(p)| = 0.331281253663595\n",
      " 3: p = -0.5087908032893191 + 0.8681655118873491im, |f(p)| = 0.027312827580817482\n",
      " 4: p = -0.5000687390673927 + 0.8659822186925401im, |f(p)| = 0.00024353592068515205\n",
      " 5: p = -0.49999999628902975 + 0.8660253983385868im, |f(p)| = 1.9770114137176226e-8\n",
      " 6: p = -0.5 + 0.8660254037844387im, |f(p)| = 2.482534153247273e-16\n",
      " 7: p = -0.5 + 0.8660254037844386im, |f(p)| = 2.482534153247273e-16\n"
     ]
    }
   ],
   "source": [
    "f = x-> x^3 - 1;\n",
    "df = x->3*x^2;\n",
    "p0 = 0. + 1. *im;\n",
    "# p0 =  2. + 1. *im;\n",
    "rel_tol = 1e-12;\n",
    "n_max = 100;\n",
    "\n",
    "p = newton(f, df, p0, n_max, rel_tol);"
   ]
  },
  {
   "cell_type": "code",
   "execution_count": 8,
   "id": "00610991-fa87-4b02-9944-009eebc24249",
   "metadata": {},
   "outputs": [
    {
     "name": "stdout",
     "output_type": "stream",
     "text": [
      "(-1 + sqrt(3) * im) / 2 = -0.5 + 0.8660254037844386im\n"
     ]
    }
   ],
   "source": [
    "@show (-1 + sqrt(3)*im)/2;"
   ]
  },
  {
   "cell_type": "code",
   "execution_count": 9,
   "id": "9b523377-c5b6-4358-9c70-8b8688a16d6b",
   "metadata": {},
   "outputs": [
    {
     "name": "stdout",
     "output_type": "stream",
     "text": [
      " 1: p = 2.237321415532297 + 0.32320104470723765im, |f(p)| = 10.650913048034251\n",
      " 2: p = 1.1919309561747855 + 0.06472959318722055im, |f(p)| = 0.732243013754487\n",
      " 3: p = 0.9745086831449764 - 0.055875720488968675im, |f(p)| = 0.17968413336872235\n",
      " 4: p = 0.9990767890118558 + 0.005621801187482102im, |f(p)| = 0.017075620846474123\n",
      " 5: p = 0.9999764247173666 - 1.3268075834405035e-6im, |f(p)| = 7.083609764864085e-5\n",
      " 6: p = 1.000000002694298 - 5.716018220404414e-10im, |f(p)| = 8.262791791216044e-9\n",
      " 7: p = 1.0 + 1.2349905693352875e-16im, |f(p)| = 3.7049717080058626e-16\n"
     ]
    }
   ],
   "source": [
    "f = x-> x^3 - 1;\n",
    "# p0 = -1. + 1*im; # finds a complex root\n",
    "# p1 = 0. + 1*im; \n",
    "# p2 = 0. + 2*im;\n",
    "p0 = -2.0 + 0 * im; # finds a real root\n",
    "p1 = -1.0 + 0 * im;\n",
    "p2 = 1.5 + 0.1 * im;\n",
    "\n",
    "rel_tol = 1e-8;\n",
    "n_max = 100;\n",
    "\n",
    "p = muller(f, p0, p1, p2, n_max, rel_tol);"
   ]
  },
  {
   "cell_type": "code",
   "execution_count": 10,
   "id": "c1892c00",
   "metadata": {},
   "outputs": [
    {
     "data": {
      "text/plain": [
       "1.0 + 1.2349905693352875e-16im"
      ]
     },
     "execution_count": 10,
     "metadata": {},
     "output_type": "execute_result"
    }
   ],
   "source": [
    "p"
   ]
  },
  {
   "cell_type": "markdown",
   "id": "58807ea9-3528-45a8-9738-5c33235ecb5f",
   "metadata": {},
   "source": [
    "## Example 2\n",
    "Find a complex root of\n",
    "$$\n",
    "x^4 - 3x^3+x^2+x+1\n",
    "$$"
   ]
  },
  {
   "cell_type": "code",
   "execution_count": 11,
   "id": "d2f037ad-06b5-4202-a49e-347efc71d8a5",
   "metadata": {},
   "outputs": [
    {
     "name": "stdout",
     "output_type": "stream",
     "text": [
      " 1: p = -0.09999999999999999 - 0.8888194417315588im, |f(p)| = 3.014896349793802\n",
      " 2: p = -0.49214570991932555 - 0.4470306999864244im, |f(p)| = 0.7558952127158086\n",
      " 3: p = -0.35222571260053304 - 0.48413244415873186im, |f(p)| = 0.17952429174116266\n",
      " 4: p = -0.3402285704679133 - 0.4430356273801289im, |f(p)| = 0.01596434357400774\n",
      " 5: p = -0.3390946788151066 - 0.4466564889953058im, |f(p)| = 0.00011245056584772478\n",
      " 6: p = -0.33909283338402885 - 0.44663010055724217im, |f(p)| = 1.8760042425627883e-8\n",
      " 7: p = -0.33909283776171006 - 0.4466300999975174im, |f(p)| = 1.942097114741681e-15\n"
     ]
    }
   ],
   "source": [
    "f = x-> x^4-3*x^3 +x^2 +x + 1;\n",
    "p0 = 0.5 + 0*im;\n",
    "p1 = -0.5 + 0*im;\n",
    "p2 = 0.0 + 0*im;\n",
    "\n",
    "rel_tol = 1e-8;\n",
    "n_max = 100;\n",
    "\n",
    "p = muller(f, p0, p1, p2, n_max, rel_tol);"
   ]
  }
 ],
 "metadata": {
  "kernelspec": {
   "display_name": "Julia 1.11.7",
   "language": "julia",
   "name": "julia-1.11"
  },
  "language_info": {
   "file_extension": ".jl",
   "mimetype": "application/julia",
   "name": "julia",
   "version": "1.11.7"
  }
 },
 "nbformat": 4,
 "nbformat_minor": 5
}
