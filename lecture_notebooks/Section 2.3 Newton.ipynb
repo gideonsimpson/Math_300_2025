{
 "cells": [
  {
   "cell_type": "markdown",
   "id": "7337bc3a-79ee-47cb-ab2f-a9ad7e1c27de",
   "metadata": {},
   "source": [
    "# Newton's Method"
   ]
  },
  {
   "cell_type": "code",
   "execution_count": null,
   "id": "17716a8a-3d74-4fe5-a370-03c535b08025",
   "metadata": {},
   "outputs": [],
   "source": [
    "using Plots"
   ]
  },
  {
   "cell_type": "code",
   "execution_count": null,
   "id": "773fcbbc-68ac-4ced-9ac5-26b551385124",
   "metadata": {},
   "outputs": [],
   "source": [
    "default(lw=2,markersize = 6,\n",
    "    xtickfont=font(12), ytickfont=font(12), \n",
    "    guidefont=font(14), legendfont=font(12), \n",
    "    titlefont=font(12))"
   ]
  },
  {
   "cell_type": "markdown",
   "id": "b0f7095d",
   "metadata": {},
   "source": [
    "Code for Newton's method for function `f` with derivative `df`, and initial guess `p0`"
   ]
  },
  {
   "cell_type": "code",
   "execution_count": null,
   "id": "27f36127-64f2-42cc-85e7-a47b3f02324f",
   "metadata": {},
   "outputs": [],
   "source": [
    "function newton(f, df, p0, n_max, rel_tol; verbose = true)\n",
    "    \n",
    "    converged = false;\n",
    "    p = p0;\n",
    "    p_old = p0;\n",
    "\n",
    "    for i in 1:n_max\n",
    "\n",
    "        p = p_old - f(p_old)/df(p_old);\n",
    "        \n",
    "        if verbose\n",
    "            println(\" $i: p = $(p), |f(p)| = $(abs(f(p)))\")\n",
    "        end\n",
    "\n",
    "        if (i>1)\n",
    "            if abs(p-p_old)/abs(p)< rel_tol\n",
    "                converged = true;\n",
    "                break\n",
    "            end\n",
    "        end\n",
    "\n",
    "        p_old = p;\n",
    "\n",
    "    end\n",
    "    \n",
    "    if !converged\n",
    "        println(\"ERROR: Did not converge after $n_max iterations\")\n",
    "    end\n",
    "\n",
    "    return p\n",
    "    \n",
    "end"
   ]
  },
  {
   "cell_type": "markdown",
   "id": "7dd4aca9",
   "metadata": {},
   "source": [
    "Code for bisection method `f` on interval `[a,b]`"
   ]
  },
  {
   "cell_type": "code",
   "execution_count": null,
   "id": "ce034a1d-5798-4e01-b7f9-cdd38d9575c7",
   "metadata": {},
   "outputs": [],
   "source": [
    "\"\"\"\n",
    "    bisection(f, a, b, n_max, tol; verbose = true)\n",
    "\n",
    "Find a root of function `f` in the interval [a,b] using the bisection method.\n",
    "\n",
    "# Arguments\n",
    "- `f`: Function for which to find the root\n",
    "- `a`: Left endpoint of the initial interval (must satisfy f(a)*f(b) < 0)\n",
    "- `b`: Right endpoint of the initial interval (must satisfy f(a)*f(b) < 0)\n",
    "- `n_max`: Maximum number of iterations allowed\n",
    "- `tol`: Tolerance for convergence (algorithm stops when interval width < 2*tol)\n",
    "- `verbose`: Optional keyword argument. If true, prints iteration information (default: true)\n",
    "\n",
    "# Returns\n",
    "- `p`: Approximate root of the function\n",
    "\n",
    "# Method\n",
    "The bisection method works by:\n",
    "1. Computing the midpoint p = (a+b)/2 of the current interval [a,b]\n",
    "2. Evaluating f(p) and determining which subinterval [a,p] or [p,b] contains the root\n",
    "3. Replacing the interval with the subinterval that contains the root\n",
    "4. Repeating until convergence or maximum iterations reached\n",
    "\n",
    "# Convergence\n",
    "The algorithm converges when either:\n",
    "- f(p) = 0 (exact root found)\n",
    "- The interval width (b-a)/2 < tol\n",
    "\n",
    "# Example\n",
    "```julia\n",
    "f(x) = x^3 + 4*x^2 - 10\n",
    "root = bisection(f, 1, 2, 100, 1e-8)\n",
    "```\n",
    "\n",
    "# Notes\n",
    "- Requires that f(a) and f(b) have opposite signs (Intermediate Value Theorem)\n",
    "- Convergence is guaranteed but may be slow compared to other methods\n",
    "- Error decreases by factor of 2 each iteration: |p_n - p| ≤ (b-a)/2^n\n",
    "\"\"\"\n",
    "function bisection(f, a, b, n_max, tol; verbose = true)\n",
    "    \n",
    "    converged = false;\n",
    "    p = 0;\n",
    "    for i in 1:n_max\n",
    "\n",
    "        p = 0.5 * (a+b); # compute the midpoint \n",
    "        \n",
    "        # print current iterate information to screen \n",
    "        if verbose\n",
    "            println(\" $i: a = $(round(a,digits=8)), b = $(round(b,digits=8)), p = $(round(p,digits=8)), |f(p)|  = $(round(abs(f(p)),digits=8))\")\n",
    "        end\n",
    "\n",
    "        # determine if the root is in the left or right interval\n",
    "        if ( f(a) * f(p)<=0)\n",
    "            b = p; # root is interval [a,p]\n",
    "        else\n",
    "            a = p # root is in interval [p,b]\n",
    "        end\n",
    "        if(f(p)==0)\n",
    "            converged = true;\n",
    "            break\n",
    "        end\n",
    "        \n",
    "        # test for convergence\n",
    "        if .5*(b-a)< tol\n",
    "            converged = true;\n",
    "            break\n",
    "        end\n",
    "    end\n",
    "    \n",
    "    if !converged\n",
    "        println(\"ERROR: Did not converge after $n_max iterations\")\n",
    "    end\n",
    "\n",
    "    return p # return midpoint guess\n",
    "    \n",
    "end"
   ]
  },
  {
   "cell_type": "markdown",
   "id": "e52dcad5-d8c5-4c49-a994-60e4481323b8",
   "metadata": {},
   "source": [
    "## Example \n",
    "Compute $\\sqrt{2}$ by solving $f(x) = 0$ with\n",
    "$$\n",
    "f(x) = x^2-2.\n",
    "$$"
   ]
  },
  {
   "cell_type": "code",
   "execution_count": null,
   "id": "8987f174-c34c-4920-99b2-6ea29c957551",
   "metadata": {},
   "outputs": [],
   "source": [
    "f = x-> x^2 - 2;\n",
    "df = x->2*x;\n",
    "p0 = 1;\n",
    "rel_tol = 1e-8;\n",
    "n_max = 100;\n",
    "\n",
    "p = newton(f, df, p0, n_max, rel_tol);"
   ]
  },
  {
   "cell_type": "code",
   "execution_count": null,
   "id": "26c98562-292d-47d1-920e-e5538312fc2e",
   "metadata": {},
   "outputs": [],
   "source": [
    "@show sqrt(2);"
   ]
  },
  {
   "cell_type": "markdown",
   "id": "03696d51-e2c4-4454-a369-4ed4254f1f06",
   "metadata": {},
   "source": [
    "### Comparison with Bisection"
   ]
  },
  {
   "cell_type": "code",
   "execution_count": null,
   "id": "6593d014-ce73-4d1d-b74d-abba0cba85ae",
   "metadata": {},
   "outputs": [],
   "source": [
    "a = 1;\n",
    "b = 2;\n",
    "rel_tol = 1e-8;\n",
    "n_max = 100;\n",
    "\n",
    "p = bisection(f,a, b, n_max, rel_tol);"
   ]
  },
  {
   "cell_type": "markdown",
   "id": "15bee9f5",
   "metadata": {},
   "source": [
    "When Newton works, it is *much* faster than bisection.  But:\n",
    "* It requires $f$ to be at least differentiable and theorems for convergence require $C^2$\n",
    "* The derviative needs to be coded up"
   ]
  },
  {
   "cell_type": "markdown",
   "id": "b967e44b-9e2e-48fb-8048-ec2fe2b362c5",
   "metadata": {},
   "source": [
    "### Visualization"
   ]
  },
  {
   "cell_type": "code",
   "execution_count": null,
   "id": "9df5c122-29a0-48f6-abca-990e2f48bde1",
   "metadata": {},
   "outputs": [],
   "source": [
    "n_max = 5;\n",
    "p_vals = zeros(n_max+1);\n",
    "p0 = 1;\n",
    "\n",
    "p = p0;\n",
    "p_vals[1] = p;\n",
    "for i in 1:n_max\n",
    "    p = p - f(p)/df(p);\n",
    "    p_vals[i+1] = p;\n",
    "\n",
    "end\n",
    "\n",
    "xx = LinRange(0,2,100);\n",
    "\n",
    "ff = f.(xx);\n",
    "plot(xx, ff, label=\"f\", legend=:topleft)\n",
    "plot!(xx, 0 *xx,label=\"\", color=:black)\n",
    "\n",
    "anim = @animate for i=1:n_max+1\n",
    "    \n",
    "    p = p_vals[i];\n",
    "    \n",
    "    plot!([p, p], [0, f(p)], label=\"\", color=:red, ls=:dash)\n",
    "    plot!([p, p- f(p)/df(p)],[f(p), 0],label=\"\", color=:red)\n",
    "    xlims!(0.9,1.6)\n",
    "    ylims!(-1, 0.5)\n",
    "    \n",
    "    xlabel!(\"x\");\n",
    "    ylabel!(\"y\")\n",
    "    \n",
    "    title!(string(\"n = $i\"))\n",
    "end;\n",
    "\n"
   ]
  },
  {
   "cell_type": "code",
   "execution_count": null,
   "id": "f3ca6736-6dca-42f7-b943-fcaa6f86cc81",
   "metadata": {},
   "outputs": [],
   "source": [
    "gif(anim,  fps = 1)"
   ]
  },
  {
   "cell_type": "markdown",
   "id": "8ce92183-557b-493a-86fc-3a9201aa1940",
   "metadata": {},
   "source": [
    "## Example\n",
    "Find a root of\n",
    "$$\n",
    "f(x) = \\cos(x) - x\n",
    "$$"
   ]
  },
  {
   "cell_type": "code",
   "execution_count": null,
   "id": "d926a799-46de-4eab-b390-4a6b067ec8af",
   "metadata": {},
   "outputs": [],
   "source": [
    "f = x-> cos(x) -x;\n",
    "df = x->-sin(x) -1;\n",
    "p0 = 0;\n",
    "rel_tol = 1e-8;\n",
    "n_max = 100;\n",
    "\n",
    "p = newton(f, df, p0, n_max, rel_tol);"
   ]
  },
  {
   "cell_type": "code",
   "execution_count": null,
   "id": "6de3d91d-a79d-4b3c-83c2-af2ddf9265f6",
   "metadata": {},
   "outputs": [],
   "source": [
    "xx = LinRange(0,π/2,100);\n",
    "plot(xx, f.(xx), label=\"f\")\n",
    "plot!(xx, 0*xx, label=\"\")\n",
    "scatter!([p], [f(p)],label=\"Root\")"
   ]
  },
  {
   "cell_type": "markdown",
   "id": "fc32b045",
   "metadata": {},
   "source": [
    "# Automatic Differentiation"
   ]
  },
  {
   "cell_type": "markdown",
   "id": "65035e9a",
   "metadata": {},
   "source": [
    "Automatic differentiation often lets us avoid having to compute a derivative by hand, before running Newton's method."
   ]
  },
  {
   "cell_type": "code",
   "execution_count": null,
   "id": "5aa10a19-9018-420a-b38e-f8949c2807d2",
   "metadata": {},
   "outputs": [],
   "source": [
    "using ForwardDiff # automatic differentiation package"
   ]
  },
  {
   "cell_type": "markdown",
   "id": "e47619e7",
   "metadata": {},
   "source": [
    "Automatically differentiate `f` at `x`:"
   ]
  },
  {
   "cell_type": "code",
   "execution_count": null,
   "id": "3775bea6-03fd-4b60-957f-3fdf8bf2e99a",
   "metadata": {},
   "outputs": [],
   "source": [
    "df_auto = x-> ForwardDiff.derivative(f,x)"
   ]
  },
  {
   "cell_type": "code",
   "execution_count": null,
   "id": "9fbb458f-a91f-4f4e-bde1-4f5b48c98d81",
   "metadata": {},
   "outputs": [],
   "source": [
    "xx = LinRange(0,π/2,100);\n",
    "plot(xx, df.(xx), label=\"f' by hand\")\n",
    "plot!(xx, df_auto.(xx), label=\"f' by AD\")\n"
   ]
  },
  {
   "cell_type": "markdown",
   "id": "d81469b6",
   "metadata": {},
   "source": [
    "Apply Newton with a derivative created through automatic differentiation"
   ]
  },
  {
   "cell_type": "code",
   "execution_count": null,
   "id": "08ecfe85-903d-46c4-9943-b0efab917a19",
   "metadata": {},
   "outputs": [],
   "source": [
    "p = newton(f, df_auto, p0, n_max, rel_tol);"
   ]
  },
  {
   "cell_type": "markdown",
   "id": "72b6316e",
   "metadata": {},
   "source": [
    "Use automatic differentiation, if possible"
   ]
  }
 ],
 "metadata": {
  "kernelspec": {
   "display_name": "Julia 1.11.7",
   "language": "julia",
   "name": "julia-1.11"
  },
  "language_info": {
   "file_extension": ".jl",
   "mimetype": "application/julia",
   "name": "julia",
   "version": "1.11.7"
  }
 },
 "nbformat": 4,
 "nbformat_minor": 5
}
