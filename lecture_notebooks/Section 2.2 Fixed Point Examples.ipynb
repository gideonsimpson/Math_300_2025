{
 "cells": [
  {
   "cell_type": "markdown",
   "id": "7d0a0a65-42f3-48c7-a525-aa4c93380339",
   "metadata": {},
   "source": [
    "# Illustrate the Fixed Point Iteration Method"
   ]
  },
  {
   "cell_type": "code",
   "execution_count": null,
   "id": "451d8f5a-1a33-43ab-a6bf-21df10a39197",
   "metadata": {},
   "outputs": [],
   "source": [
    "using Plots"
   ]
  },
  {
   "cell_type": "code",
   "execution_count": null,
   "id": "c0764fc7-164a-439e-942b-80e5a9a85bd9",
   "metadata": {},
   "outputs": [],
   "source": [
    "default(lw=2,markersize = 6,\n",
    "    xtickfont=font(12), ytickfont=font(12), \n",
    "    guidefont=font(14), legendfont=font(12),titlefont=font(12))"
   ]
  },
  {
   "cell_type": "code",
   "execution_count": null,
   "id": "03f05b71-aa36-472b-bdcd-95c2de891766",
   "metadata": {},
   "outputs": [],
   "source": [
    "\"\"\"\n",
    "    fixed_point_iteration(g, p, n_max, rel_tol; verbose=true)\n",
    "\n",
    "Find a fixed point of function `g` using fixed point iteration method.\n",
    "\n",
    "A fixed point p satisfies g(p) = p. The method uses the iteration p_{n+1} = g(p_n).\n",
    "\n",
    "# Arguments\n",
    "- `g`: Function for which to find the fixed point\n",
    "- `p`: Initial guess for the fixed point\n",
    "- `n_max`: Maximum number of iterations allowed\n",
    "- `rel_tol`: Relative tolerance for convergence |p_{n+1} - p_n|/|p_{n+1}| < rel_tol\n",
    "- `verbose`: Optional keyword argument. If true, prints iteration information (default: true)\n",
    "\n",
    "# Returns\n",
    "- `p`: Approximate fixed point of the function\n",
    "\n",
    "# Method\n",
    "The fixed point iteration works by:\n",
    "1. Starting with initial guess p_0\n",
    "2. Computing p_{n+1} = g(p_n) for each iteration\n",
    "3. Checking for convergence using relative error criterion\n",
    "4. Repeating until convergence or maximum iterations reached\n",
    "\n",
    "# Convergence\n",
    "The algorithm converges when the relative error between successive iterates\n",
    "is less than the specified tolerance: |p_{n+1} - p_n|/|p_{n+1}| < rel_tol\n",
    "\n",
    "# Convergence Theory\n",
    "- Convergence is guaranteed if |g'(p)| < 1 near the fixed point p\n",
    "- If |g'(p)| > 1, the iteration will diverge\n",
    "- Convergence rate depends on |g'(p)|: smaller values give faster convergence\n",
    "\n",
    "# Example\n",
    "```julia\n",
    "g(x) = 3^(-x)  # Find fixed point of g(x) = 3^(-x)\n",
    "p = fixed_point_iteration(g, 0.5, 100, 1e-8)\n",
    "```\n",
    "\n",
    "# Notes\n",
    "- Method may fail to converge if |g'(p)| ≥ 1 at the fixed point\n",
    "- Choice of initial guess p_0 can affect convergence\n",
    "- Relative tolerance is used rather than absolute tolerance\n",
    "\"\"\"\n",
    "function fixed_point_iteration(g, p, n_max, rel_tol; verbose=true)\n",
    "    p_old = p;\n",
    "    for i in 1:n_max\n",
    "        p = g(p);\n",
    "        println(\"$i: p = $p\");\n",
    "        if(i>1)\n",
    "            if abs(p_old-p)/abs(p) < rel_tol\n",
    "                break;\n",
    "            end\n",
    "        end\n",
    "        p_old = p;\n",
    "    end\n",
    "\n",
    "    return p\n",
    "    \n",
    "end"
   ]
  },
  {
   "cell_type": "markdown",
   "id": "5afcb93a-071c-4e3f-a407-c0846fee4fa8",
   "metadata": {},
   "source": [
    "## Example\n",
    "Find a fixed point of \n",
    "$$\n",
    "g(x) = 3^{-x}\n",
    "$$\n",
    "in the interval $[0,1]$."
   ]
  },
  {
   "cell_type": "code",
   "execution_count": null,
   "id": "01ebcb54-e436-43c9-a9f6-566ab1659008",
   "metadata": {},
   "outputs": [],
   "source": [
    "g = x-> 3^(-x);"
   ]
  },
  {
   "cell_type": "code",
   "execution_count": null,
   "id": "19cadab7-317a-48e9-8dc3-c945921f9b81",
   "metadata": {},
   "outputs": [],
   "source": [
    "xx = LinRange(0,1,100);\n",
    "plot(xx, g.(xx), label=\"g(x)\")\n",
    "plot!(xx,xx,label=\"y=x\")\n",
    "xlabel!(\"x\")"
   ]
  },
  {
   "cell_type": "code",
   "execution_count": null,
   "id": "a902a055-fa6b-4409-a2fb-49b43044f560",
   "metadata": {},
   "outputs": [],
   "source": [
    "n_max = 100;\n",
    "rel_tol = 1e-8;\n",
    "\n",
    "p0 = 0.5;\n",
    "\n",
    "p = fixed_point_iteration(g, p0, n_max, rel_tol);"
   ]
  },
  {
   "cell_type": "markdown",
   "id": "0f6de35d-f8b7-43eb-b636-506786cce79f",
   "metadata": {},
   "source": [
    "## Example \n",
    "Find a fixed point of \n",
    "$$\n",
    "g(x) = 2\\sin(x)\n",
    "$$\n",
    "in the interval $[0, \\pi]$."
   ]
  },
  {
   "cell_type": "code",
   "execution_count": null,
   "id": "32e841db-2cd0-4040-bcce-3afac0aef98f",
   "metadata": {},
   "outputs": [],
   "source": [
    "g = x-> 2sin(x);"
   ]
  },
  {
   "cell_type": "code",
   "execution_count": null,
   "id": "509100f3-918f-47d1-854d-c387a0973ff2",
   "metadata": {},
   "outputs": [],
   "source": [
    "xx = LinRange(0,π,100);\n",
    "plot(xx, g.(xx), label=\"g(x)\")\n",
    "plot!(xx,xx,label=\"y=x\")\n",
    "xlabel!(\"x\")"
   ]
  },
  {
   "cell_type": "code",
   "execution_count": null,
   "id": "49b5cf2f-5add-46a2-a641-061dd83d7278",
   "metadata": {},
   "outputs": [],
   "source": [
    "n_max = 100;\n",
    "rel_tol = 1e-8;\n",
    "\n",
    "p0 =2;\n",
    "\n",
    "p = fixed_point_iteration(g, p0, n_max, rel_tol);"
   ]
  },
  {
   "cell_type": "markdown",
   "id": "614943fd-052b-4bd9-a35d-5f79baafa3d8",
   "metadata": {},
   "source": [
    "## Example\n",
    "The following example fails to converge:\n",
    "$$\n",
    "g(x) = x - x^3 - 4 x^2 + 10;\n",
    "$$\n",
    "Try to find the fixed point in $[1,2]$.\n",
    "\n",
    "Why does it fail?"
   ]
  },
  {
   "cell_type": "code",
   "execution_count": null,
   "id": "8ffce425-946c-400a-99cf-dab12badec99",
   "metadata": {},
   "outputs": [],
   "source": [
    "g = x-> x - x^3 - 4*x^2 + 10;"
   ]
  },
  {
   "cell_type": "code",
   "execution_count": null,
   "id": "3bd2e617-ed75-4901-83d9-5d2e101d4c0f",
   "metadata": {},
   "outputs": [],
   "source": [
    "xx = LinRange(1,2,100);\n",
    "plot(xx, g.(xx), label=\"g(x)\")\n",
    "plot!(xx,xx,label=\"y=x\")\n",
    "xlabel!(\"x\")"
   ]
  },
  {
   "cell_type": "markdown",
   "id": "fa7b4366",
   "metadata": {},
   "source": [
    "This $g$ maps points from $[1,2]$ far outside of $[1,2]$ (look at vertical values)."
   ]
  },
  {
   "cell_type": "code",
   "execution_count": null,
   "id": "5e6f7880-6843-4bed-855d-e97238c349f8",
   "metadata": {},
   "outputs": [],
   "source": [
    "n_max = 10;\n",
    "rel_tol = 1e-8;\n",
    "\n",
    "p0 = 1.26;\n",
    "\n",
    "p = fixed_point_iteration(g, p0, n_max, rel_tol);"
   ]
  },
  {
   "cell_type": "markdown",
   "id": "a9c1cf5f-e842-45ff-b2e6-8fbe7dcaadb3",
   "metadata": {},
   "source": [
    "The problem is that $|g'(x)|\\gg 1$."
   ]
  }
 ],
 "metadata": {
  "kernelspec": {
   "display_name": "Julia 1.11.7",
   "language": "julia",
   "name": "julia-1.11"
  },
  "language_info": {
   "file_extension": ".jl",
   "mimetype": "application/julia",
   "name": "julia",
   "version": "1.11.7"
  }
 },
 "nbformat": 4,
 "nbformat_minor": 5
}
