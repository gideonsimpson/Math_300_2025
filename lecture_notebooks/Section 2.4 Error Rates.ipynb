{
 "cells": [
  {
   "cell_type": "code",
   "execution_count": null,
   "id": "42ac7f7e-61c6-4a65-8029-138cbcb7034d",
   "metadata": {},
   "outputs": [],
   "source": [
    "using Plots"
   ]
  },
  {
   "cell_type": "code",
   "execution_count": null,
   "id": "5fdecb9f-c40c-416d-a046-325a3c5dc964",
   "metadata": {},
   "outputs": [],
   "source": [
    "default(lw=2,markersize = 6,\n",
    "    xtickfont=font(12), ytickfont=font(12), \n",
    "    guidefont=font(14), legendfont=font(12),titlefont=font(12))"
   ]
  },
  {
   "cell_type": "markdown",
   "id": "6de8c9ff",
   "metadata": {},
   "source": [
    "# Convergence Rates"
   ]
  },
  {
   "cell_type": "markdown",
   "id": "9fc50997",
   "metadata": {},
   "source": [
    "Compare the convergence rates of\n",
    "$$\n",
    "p_n =  (\\lambda_p)^{n} p_0, \\quad \\text{Linear Convergence}\n",
    "$$\n",
    "against\n",
    "$$\n",
    "q_n = (\\lambda_q)^{2^n-1} q_0^{2^n}, \\quad \\text{Quadratic Convergence}\n",
    "$$"
   ]
  },
  {
   "cell_type": "code",
   "execution_count": null,
   "id": "1359e16e",
   "metadata": {},
   "outputs": [],
   "source": [
    "n_vals = 0:5;\n",
    "p0 = .1; # starting points\n",
    "q0 = .1;\n",
    "λp = .5; # asymptotic error constants\n",
    "λq = 3.;\n",
    "\n",
    "plot(n_vals, (@. λp ^(n_vals)) * abs(p0), label=\"Linear, pₙ\", yaxis=(:log10, [1e-15, 10]), legend=:right)\n",
    "plot!(n_vals, (@. λq ^(2^n_vals-1) * abs(q0)^((2^n_vals))), label=\"Quadratic, qₙ\")\n",
    "yticks!(10. .^(-15:2:1))\n",
    "xlabel!(\"n\")\n",
    "ylabel!(\"Error\")"
   ]
  },
  {
   "cell_type": "code",
   "execution_count": null,
   "id": "0b0a3edc",
   "metadata": {},
   "outputs": [],
   "source": []
  }
 ],
 "metadata": {
  "kernelspec": {
   "display_name": "Julia 1.11.7",
   "language": "julia",
   "name": "julia-1.11"
  },
  "language_info": {
   "file_extension": ".jl",
   "mimetype": "application/julia",
   "name": "julia",
   "version": "1.11.7"
  }
 },
 "nbformat": 4,
 "nbformat_minor": 5
}
