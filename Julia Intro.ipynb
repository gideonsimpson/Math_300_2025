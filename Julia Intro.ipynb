{
 "cells": [
  {
   "cell_type": "markdown",
   "id": "520bbb13",
   "metadata": {},
   "source": [
    "# Getting Started with Julia, Jupyter, and VS Code\n",
    "* Download and install Julia: https://julialang.org/downloads/\n",
    "* Download and install VS Code: https://code.visualstudio.com/Download\n",
    "* Install the Julia extension for VS Code\n",
    "* Restart applications as needed"
   ]
  },
  {
   "cell_type": "markdown",
   "id": "c5709754",
   "metadata": {},
   "source": [
    "# REPL\n",
    "Access the REPL either\n",
    "* Directly from the installed application\n",
    "* From a terminal\n",
    "* Launch through VS Code: View -> Command Palate -> Start Julia REPL; it pays to learn the keyboard macros in VS Code\n",
    "\n",
    "Install the Julia kernel inside REPL by switching to the package manger (press `]` so you see `(@v1.1x) pkg>`, depending on version), and then type `add IJulia` followed by `build IJulia`.  This installs the `IJulia` pacakge.  You may need to restart VS Code afterwards so that it detects the newly installed kernel."
   ]
  },
  {
   "cell_type": "markdown",
   "id": "660ec8cd",
   "metadata": {},
   "source": [
    "# Creating Jupyter Notebooks\n",
    "Create Jupyter notebooks in VS Code by creating a new file with a `.ipynb` extension.  To use Julia within your notebook, set the notebook's kernel to be Julia."
   ]
  },
  {
   "cell_type": "markdown",
   "id": "cfc758ab",
   "metadata": {},
   "source": [
    "# Basic Julia"
   ]
  },
  {
   "cell_type": "markdown",
   "id": "b967cee1",
   "metadata": {},
   "source": [
    "## Creating Basic Variables\n",
    "Create some variables of different data types"
   ]
  },
  {
   "cell_type": "code",
   "execution_count": null,
   "id": "bed9613b",
   "metadata": {},
   "outputs": [],
   "source": [
    "name = \"AJ Drexel\"\n",
    "x = 1;\n",
    "y = 2.5;\n",
    "z = 1.0;\n",
    "w = true;"
   ]
  },
  {
   "cell_type": "code",
   "execution_count": null,
   "id": "70ac6486",
   "metadata": {},
   "outputs": [],
   "source": [
    "name"
   ]
  },
  {
   "cell_type": "code",
   "execution_count": null,
   "id": "d85790d9",
   "metadata": {},
   "outputs": [],
   "source": [
    "x"
   ]
  },
  {
   "cell_type": "code",
   "execution_count": null,
   "id": "59a00cb2",
   "metadata": {},
   "outputs": [],
   "source": [
    "y"
   ]
  },
  {
   "cell_type": "code",
   "execution_count": null,
   "id": "c666b72c",
   "metadata": {},
   "outputs": [],
   "source": [
    "z"
   ]
  },
  {
   "cell_type": "code",
   "execution_count": null,
   "id": "76d82f59",
   "metadata": {},
   "outputs": [],
   "source": [
    "w"
   ]
  },
  {
   "cell_type": "markdown",
   "id": "2c96e9dd",
   "metadata": {},
   "source": [
    "Compare the types using `typeof`:"
   ]
  },
  {
   "cell_type": "code",
   "execution_count": null,
   "id": "934bbab7",
   "metadata": {},
   "outputs": [],
   "source": [
    "typeof(name)"
   ]
  },
  {
   "cell_type": "code",
   "execution_count": null,
   "id": "3764672a",
   "metadata": {},
   "outputs": [],
   "source": [
    "typeof(x)"
   ]
  },
  {
   "cell_type": "code",
   "execution_count": null,
   "id": "25769d30",
   "metadata": {},
   "outputs": [],
   "source": [
    "typeof(y)"
   ]
  },
  {
   "cell_type": "code",
   "execution_count": null,
   "id": "ffb2d044",
   "metadata": {},
   "outputs": [],
   "source": [
    "typeof(z)"
   ]
  },
  {
   "cell_type": "code",
   "execution_count": null,
   "id": "d3a5beab",
   "metadata": {},
   "outputs": [],
   "source": [
    "typeof(w)"
   ]
  },
  {
   "cell_type": "markdown",
   "id": "82c2673d",
   "metadata": {},
   "source": [
    "## Printing Variable Values\n",
    "As already seen, if you type the variable name (**without** including a `;` after it), it will print the value in the variable.  Other ways of printing values include using `print` and `println`:"
   ]
  },
  {
   "cell_type": "code",
   "execution_count": null,
   "id": "c36a7728",
   "metadata": {},
   "outputs": [],
   "source": [
    "print(x)\n",
    "print(y)"
   ]
  },
  {
   "cell_type": "code",
   "execution_count": null,
   "id": "8f7a72d4",
   "metadata": {},
   "outputs": [],
   "source": [
    "println(x)\n",
    "println(y)"
   ]
  },
  {
   "cell_type": "markdown",
   "id": "c70843c6",
   "metadata": {},
   "source": [
    "Basic stirng formatting can be done using *interpolation* using `$`:"
   ]
  },
  {
   "cell_type": "code",
   "execution_count": null,
   "id": "1e60c187",
   "metadata": {},
   "outputs": [],
   "source": [
    "println(\"My name is $name\")\n",
    "println(\"The value of x is $x and the value of y is $y and the value of z is $z and the value of w is $w\")"
   ]
  },
  {
   "cell_type": "markdown",
   "id": "ab55879a",
   "metadata": {},
   "source": [
    "## Defining Functions in Julia\n",
    "Functions can be defined with `function` declaration or inline:"
   ]
  },
  {
   "cell_type": "code",
   "execution_count": null,
   "id": "28093351",
   "metadata": {},
   "outputs": [],
   "source": [
    "function f(a,b)\n",
    "    return a^2 + b^2; # this is the value that is returned\n",
    "end\n",
    "\n",
    "g(a,b) = a^2 + b^2;"
   ]
  },
  {
   "cell_type": "code",
   "execution_count": null,
   "id": "54464d9e",
   "metadata": {},
   "outputs": [],
   "source": [
    "f(3,4)"
   ]
  },
  {
   "cell_type": "code",
   "execution_count": null,
   "id": "514b0490",
   "metadata": {},
   "outputs": [],
   "source": [
    "g(3,4)"
   ]
  },
  {
   "cell_type": "markdown",
   "id": "5a8f2129",
   "metadata": {},
   "source": [
    "## Arrays and Vectors\n",
    "In Julia, 1D arrays correspend to vectors.  Julia vectors can be created using `[` and `]` , and **indexing begins at 1**."
   ]
  },
  {
   "cell_type": "code",
   "execution_count": null,
   "id": "3108c551",
   "metadata": {},
   "outputs": [],
   "source": [
    "u = [1.0, 2.0, 3.0]"
   ]
  },
  {
   "cell_type": "code",
   "execution_count": null,
   "id": "9bd2fe2d",
   "metadata": {},
   "outputs": [],
   "source": [
    "u[1]"
   ]
  },
  {
   "cell_type": "code",
   "execution_count": null,
   "id": "a969ab53",
   "metadata": {},
   "outputs": [],
   "source": [
    "u[2]"
   ]
  },
  {
   "cell_type": "markdown",
   "id": "4c4df8f8",
   "metadata": {},
   "source": [
    "The final entry in a vector can be accessed via `end`:"
   ]
  },
  {
   "cell_type": "code",
   "execution_count": null,
   "id": "9800a4d0",
   "metadata": {},
   "outputs": [],
   "source": [
    "u[end]"
   ]
  },
  {
   "cell_type": "code",
   "execution_count": null,
   "id": "9d713fd0",
   "metadata": {},
   "outputs": [],
   "source": [
    "u[end-1]"
   ]
  },
  {
   "cell_type": "markdown",
   "id": "6a0ee45f",
   "metadata": {},
   "source": [
    "Adjoints can be generated using `'`:"
   ]
  },
  {
   "cell_type": "code",
   "execution_count": null,
   "id": "377a9691",
   "metadata": {},
   "outputs": [],
   "source": [
    "u'"
   ]
  },
  {
   "cell_type": "markdown",
   "id": "f40f1fc7",
   "metadata": {},
   "source": [
    "## Matrices\n",
    "Matrices are 2D arrays, and the rows can be distinguished using `;`:"
   ]
  },
  {
   "cell_type": "code",
   "execution_count": null,
   "id": "6292b84f",
   "metadata": {},
   "outputs": [],
   "source": [
    "A = [1. 2.; 3. 4.]"
   ]
  },
  {
   "cell_type": "code",
   "execution_count": null,
   "id": "3be68435",
   "metadata": {},
   "outputs": [],
   "source": [
    "u = [-0.5, 1.0]"
   ]
  },
  {
   "cell_type": "markdown",
   "id": "bd3a6303",
   "metadata": {},
   "source": [
    "Matrix vector multiplication: is performed using `*`:"
   ]
  },
  {
   "cell_type": "code",
   "execution_count": null,
   "id": "92284f15",
   "metadata": {},
   "outputs": [],
   "source": [
    "A*u"
   ]
  },
  {
   "cell_type": "markdown",
   "id": "d49eaefc",
   "metadata": {},
   "source": [
    "## Special Functions\n",
    "The standard special functions (trigonometric, exponential, etc.) are in Julia, out of the box:"
   ]
  },
  {
   "cell_type": "code",
   "execution_count": null,
   "id": "81d2e812",
   "metadata": {},
   "outputs": [],
   "source": [
    "sin(1)"
   ]
  },
  {
   "cell_type": "code",
   "execution_count": null,
   "id": "54588c7d",
   "metadata": {},
   "outputs": [],
   "source": [
    "log(10) "
   ]
  },
  {
   "cell_type": "code",
   "execution_count": null,
   "id": "b011d938",
   "metadata": {},
   "outputs": [],
   "source": [
    "exp(3)"
   ]
  },
  {
   "cell_type": "markdown",
   "id": "22bc3151",
   "metadata": {},
   "source": [
    "## Control Structures"
   ]
  },
  {
   "cell_type": "markdown",
   "id": "422c62e1",
   "metadata": {},
   "source": [
    "### If/then/else"
   ]
  },
  {
   "cell_type": "code",
   "execution_count": null,
   "id": "70cb0eb4",
   "metadata": {},
   "outputs": [],
   "source": [
    "k = 10\n",
    "if k > 50\n",
    "    println(\"k is larger than 50!\")\n",
    "elseif k > 25\n",
    "    println(\"k is greater than 25!\")\n",
    "else\n",
    "    println(\"k is less than 25.\")\n",
    "end"
   ]
  },
  {
   "cell_type": "markdown",
   "id": "90dbce0e",
   "metadata": {},
   "source": [
    "### For Loops"
   ]
  },
  {
   "cell_type": "code",
   "execution_count": null,
   "id": "dbddcff7",
   "metadata": {},
   "outputs": [],
   "source": [
    "for i in 1:5\n",
    "    println(\"i = $i\")\n",
    "end\n"
   ]
  },
  {
   "cell_type": "markdown",
   "id": "993cbf64",
   "metadata": {},
   "source": [
    "### While Loops"
   ]
  },
  {
   "cell_type": "code",
   "execution_count": null,
   "id": "160e667b",
   "metadata": {},
   "outputs": [],
   "source": [
    "i = 1\n",
    "while true\n",
    "    if i < 10\n",
    "        i += 1\n",
    "        continue\n",
    "    elseif i > 20\n",
    "        break\n",
    "    else\n",
    "        println(i)\n",
    "        i += 1\n",
    "    end\n",
    "end"
   ]
  },
  {
   "cell_type": "markdown",
   "id": "9247d8cb",
   "metadata": {},
   "source": [
    "## Elementwise Operations\n",
    "Frequently, it will be desirable to apply an operation to every element of an array.   This can be done using the `.` notation:"
   ]
  },
  {
   "cell_type": "code",
   "execution_count": null,
   "id": "76887a09",
   "metadata": {},
   "outputs": [],
   "source": [
    "x = [1., 3., 5.];\n",
    "sin.(x)"
   ]
  },
  {
   "cell_type": "code",
   "execution_count": null,
   "id": "a35f29cb",
   "metadata": {},
   "outputs": [],
   "source": [
    "exp.(x)"
   ]
  },
  {
   "cell_type": "code",
   "execution_count": null,
   "id": "a177160d",
   "metadata": {},
   "outputs": [],
   "source": [
    "@. exp(x) # applies everything to the right of the @ elementwise"
   ]
  },
  {
   "cell_type": "code",
   "execution_count": null,
   "id": "89dfc4d8",
   "metadata": {},
   "outputs": [],
   "source": [
    "@. sin(exp(x)) # applies everything to the right of the @ elementwise"
   ]
  },
  {
   "cell_type": "code",
   "execution_count": null,
   "id": "9cebfeee",
   "metadata": {},
   "outputs": [],
   "source": [
    "y = @. sin(exp(x)); # whole array assignment\n",
    "y"
   ]
  },
  {
   "cell_type": "markdown",
   "id": "ff0eb869",
   "metadata": {},
   "source": [
    "# Why Julia?"
   ]
  },
  {
   "cell_type": "markdown",
   "id": "1b907384",
   "metadata": {},
   "source": [
    "## Why not MATLAB?\n",
    "Julia is free and has better language features.  Codes can be logically grouped into packages, with similar functions grouped together into single files."
   ]
  },
  {
   "cell_type": "markdown",
   "id": "e8dcd896",
   "metadata": {},
   "source": [
    "## Why not Python?\n",
    "Julia was designed specifically for numerical (i.e. floating point) computation, so certain language choices were made that make it more concise.  In addition, it is easier to generate high performance Julia code than high performance Python code; we typically do not need to install additional accelerators `Jax` or `Numba`; https://julialang.org/benchmarks/."
   ]
  }
 ],
 "metadata": {
  "kernelspec": {
   "display_name": "Julia 1.11.7",
   "language": "julia",
   "name": "julia-1.11"
  },
  "language_info": {
   "file_extension": ".jl",
   "mimetype": "application/julia",
   "name": "julia",
   "version": "1.11.7"
  }
 },
 "nbformat": 4,
 "nbformat_minor": 5
}
